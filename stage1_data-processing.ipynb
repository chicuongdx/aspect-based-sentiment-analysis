{
 "cells": [
  {
   "cell_type": "code",
   "execution_count": 36,
   "metadata": {},
   "outputs": [],
   "source": [
    "TRAIN_PATH = 'data/original/train.jsonl'\n",
    "DEV_PATH = 'data/original/dev.jsonl'\n",
    "TEST_PATH = 'data/original/test.jsonl'"
   ]
  },
  {
   "cell_type": "code",
   "execution_count": 37,
   "metadata": {},
   "outputs": [],
   "source": [
    "import pandas as pd\n",
    "import json\n",
    "\n",
    "def read_jsonl_to_dataframe(file_path):\n",
    "    data = []\n",
    "\n",
    "    with open(file_path, 'r', encoding='utf-8') as file:\n",
    "        for line in file:\n",
    "            try:\n",
    "                json_obj = json.loads(line)\n",
    "                data.append(json_obj)\n",
    "            except json.JSONDecodeError as e:\n",
    "                print(f\"Skipping invalid JSON: {e}\")\n",
    "\n",
    "    df = pd.DataFrame(data)\n",
    "\n",
    "    return df"
   ]
  },
  {
   "cell_type": "code",
   "execution_count": 38,
   "metadata": {},
   "outputs": [],
   "source": [
    "df_train = read_jsonl_to_dataframe(TRAIN_PATH)\n",
    "df_dev = read_jsonl_to_dataframe(DEV_PATH)\n",
    "df_test = read_jsonl_to_dataframe(TEST_PATH)"
   ]
  },
  {
   "cell_type": "markdown",
   "metadata": {},
   "source": [
    "# Processing data"
   ]
  },
  {
   "cell_type": "code",
   "execution_count": 39,
   "metadata": {},
   "outputs": [],
   "source": [
    "from underthesea import word_tokenize\n",
    "import regex as re\n",
    "\n",
    "def tokenize(text):\n",
    "    return word_tokenize(text, format=\"text\")\n",
    "\n",
    "def preprocess(text):\n",
    "    text = text.lower()\n",
    "    text = re.sub(r\"[^\\w\\s]\", \" \", text) # remove punctuation\n",
    "    text = re.sub(r\"\\s+\", \" \", text) # remove extra space\n",
    "    text = text.strip()\n",
    "    return text\n",
    "\n",
    "def post_process(text):\n",
    "\n",
    "    # text = tokenize(text)\n",
    "    text = preprocess(text)\n",
    "\n",
    "    return text"
   ]
  },
  {
   "cell_type": "code",
   "execution_count": 40,
   "metadata": {},
   "outputs": [],
   "source": [
    "def get_all_span_aspect(text, label):\n",
    "    \n",
    "    for span in label:\n",
    "        start, end, aspect_sentiment = span\n",
    "        aspect = text[start:end]\n",
    "        \n",
    "        yield aspect, aspect_sentiment\n",
    "\n",
    "df_train['all_span_aspect'] = df_train.apply(lambda row: list(get_all_span_aspect(row['text'], row['labels'])), axis=1)\n",
    "df_test['all_span_aspect'] = df_test.apply(lambda row: list(get_all_span_aspect(row['text'], row['labels'])), axis=1)\n",
    "df_dev['all_span_aspect'] = df_dev.apply(lambda row: list(get_all_span_aspect(row['text'], row['labels'])), axis=1)"
   ]
  },
  {
   "cell_type": "code",
   "execution_count": 41,
   "metadata": {},
   "outputs": [
    {
     "data": {
      "text/plain": [
       "[('Lag', 'PERFORMANCE#NEGATIVE'),\n",
       " ('hao pin', 'BATTERY#NEGATIVE'),\n",
       " ('Sam làm tệ quá, không bằng mấy con tàu cùng phân khúc',\n",
       "  'GENERAL#NEGATIVE')]"
      ]
     },
     "execution_count": 41,
     "metadata": {},
     "output_type": "execute_result"
    }
   ],
   "source": [
    "df_train['all_span_aspect'].iloc[1]"
   ]
  },
  {
   "cell_type": "code",
   "execution_count": 42,
   "metadata": {},
   "outputs": [],
   "source": [
    "# apply post process to all_span_aspect\n",
    "df_train['all_span_aspect'] = df_train.apply(lambda row: [(post_process(aspect), sentiment) for aspect, sentiment in row['all_span_aspect']], axis=1)\n",
    "df_test['all_span_aspect'] = df_test.apply(lambda row: [(post_process(aspect), sentiment) for aspect, sentiment in row['all_span_aspect']], axis=1)\n",
    "df_dev['all_span_aspect'] = df_dev.apply(lambda row: [(post_process(aspect), sentiment) for aspect, sentiment in row['all_span_aspect']], axis=1)"
   ]
  },
  {
   "cell_type": "code",
   "execution_count": 43,
   "metadata": {},
   "outputs": [
    {
     "data": {
      "text/plain": [
       "[('xiaomi redmi note 9s tuyệt vời trên cả mong ợi', 'GENERAL#POSITIVE'),\n",
       " ('pin 5k max châu bò lun', 'BATTERY#POSITIVE'),\n",
       " ('cảm ơn các bạn nv dmx lộc bình cho hẳn 100 sao lun', 'SER&ACC#POSITIVE'),\n",
       " ('nên mua angs ồng tiền bỏ ra chỉ một từ tuyệt vời', 'GENERAL#POSITIVE')]"
      ]
     },
     "execution_count": 43,
     "metadata": {},
     "output_type": "execute_result"
    }
   ],
   "source": [
    "df_train['all_span_aspect'].iloc[545]"
   ]
  },
  {
   "cell_type": "code",
   "execution_count": 44,
   "metadata": {},
   "outputs": [],
   "source": [
    "def process_data_frame(df):\n",
    "    # new_df = pd.DataFrame()\n",
    "    df['text'] = df['text'].apply(lambda x: post_process(x))\n",
    "    # df['labels'] = df['labels']\n",
    "    # df['all_span_aspect'] = df['all_span_aspect']\n",
    "    return df"
   ]
  },
  {
   "cell_type": "code",
   "execution_count": 45,
   "metadata": {},
   "outputs": [],
   "source": [
    "df_train = process_data_frame(df_train) # problem: process in here not same as process in above\n",
    "df_dev = process_data_frame(df_dev)\n",
    "df_test = process_data_frame(df_test)"
   ]
  },
  {
   "cell_type": "code",
   "execution_count": 46,
   "metadata": {},
   "outputs": [
    {
     "data": {
      "text/plain": [
       "'xiaomi redmi note 9s tuyệt vời trên cả mong ợi tuyệt vời hơn xiaomi redmi note 8pro nhiều pin 5k max châu bò lun bạn nên mua angs ồng tiền bỏ ra chỉ một từ tuyệt vời cảm ơn các bạn nv dmx lộc bình cho hẳn 100 sao lun ms ón e nó về sáng nay'"
      ]
     },
     "execution_count": 46,
     "metadata": {},
     "output_type": "execute_result"
    }
   ],
   "source": [
    "df_train.text.iloc[545]"
   ]
  },
  {
   "cell_type": "code",
   "execution_count": 47,
   "metadata": {},
   "outputs": [],
   "source": [
    "# save data\n",
    "import os\n",
    "\n",
    "def save_data_to_jsonl(df, folder, filename):\n",
    "    if not os.path.exists(folder):\n",
    "        os.mkdir(folder)\n",
    "\n",
    "\n",
    "    with open(os.path.join(folder, filename), 'w', encoding='utf-8') as file:\n",
    "\n",
    "        # get all name of columns\n",
    "        columns = df.columns\n",
    "        for index, row in df.iterrows():\n",
    "            json_obj = {}\n",
    "            for column in columns:\n",
    "                json_obj[column] = row[column]\n",
    "            json.dump(json_obj, file, ensure_ascii=False)\n",
    "            file.write('\\n')\n",
    "\n",
    "# save_data_to_csv(df_train, 'data/process_data', 'train.json')\n",
    "# save_data_to_csv(df_dev, 'data/process_data', 'dev.json')\n",
    "# save_data_to_csv(df_test, 'data/process_data', 'test.json')"
   ]
  },
  {
   "cell_type": "markdown",
   "metadata": {},
   "source": [
    "# Combine data"
   ]
  },
  {
   "cell_type": "code",
   "execution_count": 1,
   "metadata": {},
   "outputs": [],
   "source": [
    "# import pandas as pd\n",
    "# import json\n",
    "\n",
    "# def read_json_to_dataframe(filename):\n",
    "\n",
    "#     with open(filename, 'r', encoding='utf-8') as file:\n",
    "#         data = json.load(file)\n",
    "    \n",
    "#     df = pd.DataFrame(data)\n",
    "\n",
    "#     return df\n",
    "\n",
    "# df_train = read_json_to_dataframe('data/process_data/train.json')\n",
    "# df_dev = read_json_to_dataframe('data/process_data/dev.json')\n",
    "# df_test = read_json_to_dataframe('data/process_data/test.json')"
   ]
  },
  {
   "cell_type": "code",
   "execution_count": 48,
   "metadata": {},
   "outputs": [],
   "source": [
    "def find_aspect(text, all_span_aspect):\n",
    "    \n",
    "    for span_aspect, sentiment in all_span_aspect:\n",
    "\n",
    "        # find_text = span_aspect.replace('_', ' ')\n",
    "        \n",
    "        # find start and end of aspect in text\n",
    "        start = text.find(span_aspect)\n",
    "        end = start + len(span_aspect)\n",
    "\n",
    "        # print(f\"start: {start}, end: {end}, aspect: {span_aspect}, sentiment: {sentiment}\")\n",
    "\n",
    "        yield start, end, sentiment\n",
    "\n",
    "df_train['labels'] = df_train.apply(lambda row: list(find_aspect(row['text'], row['all_span_aspect'])), axis=1)\n",
    "df_dev['labels'] = df_dev.apply(lambda row: list(find_aspect(row['text'], row['all_span_aspect'])), axis=1)\n",
    "df_test['labels'] = df_test.apply(lambda row: list(find_aspect(row['text'], row['all_span_aspect'])), axis=1)"
   ]
  },
  {
   "cell_type": "code",
   "execution_count": 49,
   "metadata": {},
   "outputs": [
    {
     "data": {
      "text/html": [
       "<div>\n",
       "<style scoped>\n",
       "    .dataframe tbody tr th:only-of-type {\n",
       "        vertical-align: middle;\n",
       "    }\n",
       "\n",
       "    .dataframe tbody tr th {\n",
       "        vertical-align: top;\n",
       "    }\n",
       "\n",
       "    .dataframe thead th {\n",
       "        text-align: right;\n",
       "    }\n",
       "</style>\n",
       "<table border=\"1\" class=\"dataframe\">\n",
       "  <thead>\n",
       "    <tr style=\"text-align: right;\">\n",
       "      <th></th>\n",
       "      <th>text</th>\n",
       "      <th>labels</th>\n",
       "      <th>all_span_aspect</th>\n",
       "    </tr>\n",
       "  </thead>\n",
       "  <tbody>\n",
       "    <tr>\n",
       "      <th>0</th>\n",
       "      <td>pin sài tầm 50h cho pin 100 100 camera ổn tất ...</td>\n",
       "      <td>[(0, 31, BATTERY#POSITIVE), (32, 41, CAMERA#PO...</td>\n",
       "      <td>[(pin sài tầm 50h cho pin 100 100, BATTERY#POS...</td>\n",
       "    </tr>\n",
       "    <tr>\n",
       "      <th>1</th>\n",
       "      <td>lag và hao pin là cái tóm tắt về máy sa...</td>\n",
       "      <td>[(0, 3, PERFORMANCE#NEGATIVE), (8, 15, BATTERY...</td>\n",
       "      <td>[(lag, PERFORMANCE#NEGATIVE), (hao pin, BATTER...</td>\n",
       "    </tr>\n",
       "    <tr>\n",
       "      <th>2</th>\n",
       "      <td>tất cả đều ổn ngoại trừ lúc máy nóng lên thì p...</td>\n",
       "      <td>[(78, 108, CAMERA#NEUTRAL), (109, 167, BATTERY...</td>\n",
       "      <td>[(cam chụp cũng gọi là tầm trung, CAMERA#NEUTR...</td>\n",
       "    </tr>\n",
       "    <tr>\n",
       "      <th>3</th>\n",
       "      <td>ok mua máy ở tgdd chính sách đổi trả rất tốt r...</td>\n",
       "      <td>[(18, 216, SER&amp;ACC#POSITIVE)]</td>\n",
       "      <td>[(chính sách đổi trả rất tốt rất yên tâm khi m...</td>\n",
       "    </tr>\n",
       "    <tr>\n",
       "      <th>4</th>\n",
       "      <td>kiểu dáng thì đẹp cầm chắc tay nhưng loa nhỏ q...</td>\n",
       "      <td>[(0, 30, DESIGN#POSITIVE), (37, 48, FEATURES#N...</td>\n",
       "      <td>[(kiểu dáng thì đẹp cầm chắc tay, DESIGN#POSIT...</td>\n",
       "    </tr>\n",
       "    <tr>\n",
       "      <th>...</th>\n",
       "      <td>...</td>\n",
       "      <td>...</td>\n",
       "      <td>...</td>\n",
       "    </tr>\n",
       "    <tr>\n",
       "      <th>7780</th>\n",
       "      <td>máy mua đc 2thang bị lỗi camera trước có đổi đ...</td>\n",
       "      <td>[(18, 37, CAMERA#NEGATIVE)]</td>\n",
       "      <td>[(bị lỗi camera trước, CAMERA#NEGATIVE)]</td>\n",
       "    </tr>\n",
       "    <tr>\n",
       "      <th>7781</th>\n",
       "      <td>i bought this phone some hours ago because i l...</td>\n",
       "      <td>[]</td>\n",
       "      <td>[]</td>\n",
       "    </tr>\n",
       "    <tr>\n",
       "      <th>7782</th>\n",
       "      <td>máy màn hình cứ tự sáng liên tục dù chẳng có t...</td>\n",
       "      <td>[(0, 57, FEATURES#NEGATIVE)]</td>\n",
       "      <td>[(máy màn hình cứ tự sáng liên tục dù chẳng có...</td>\n",
       "    </tr>\n",
       "    <tr>\n",
       "      <th>7783</th>\n",
       "      <td>sau gần một tuần sử dụng máy cảm thấy máy dùng...</td>\n",
       "      <td>[(25, 56, GENERAL#POSITIVE), (57, 123, FEATURE...</td>\n",
       "      <td>[(máy cảm thấy máy dùng rất thích, GENERAL#POS...</td>\n",
       "    </tr>\n",
       "    <tr>\n",
       "      <th>7784</th>\n",
       "      <td>máy bắt wifi 4g quá kém thường xuyên bị rớt mạ...</td>\n",
       "      <td>[(0, 48, FEATURES#NEGATIVE), (49, 154, CAMERA#...</td>\n",
       "      <td>[(máy bắt wifi 4g quá kém thường xuyên bị rớt ...</td>\n",
       "    </tr>\n",
       "  </tbody>\n",
       "</table>\n",
       "<p>7785 rows × 3 columns</p>\n",
       "</div>"
      ],
      "text/plain": [
       "                                                   text  \\\n",
       "0     pin sài tầm 50h cho pin 100 100 camera ổn tất ...   \n",
       "1     lag và hao pin là cái tóm tắt về máy sa...   \n",
       "2     tất cả đều ổn ngoại trừ lúc máy nóng lên thì p...   \n",
       "3     ok mua máy ở tgdd chính sách đổi trả rất tốt r...   \n",
       "4     kiểu dáng thì đẹp cầm chắc tay nhưng loa nhỏ q...   \n",
       "...                                                 ...   \n",
       "7780  máy mua đc 2thang bị lỗi camera trước có đổi đ...   \n",
       "7781  i bought this phone some hours ago because i l...   \n",
       "7782  máy màn hình cứ tự sáng liên tục dù chẳng có t...   \n",
       "7783  sau gần một tuần sử dụng máy cảm thấy máy dùng...   \n",
       "7784  máy bắt wifi 4g quá kém thường xuyên bị rớt mạ...   \n",
       "\n",
       "                                                 labels  \\\n",
       "0     [(0, 31, BATTERY#POSITIVE), (32, 41, CAMERA#PO...   \n",
       "1     [(0, 3, PERFORMANCE#NEGATIVE), (8, 15, BATTERY...   \n",
       "2     [(78, 108, CAMERA#NEUTRAL), (109, 167, BATTERY...   \n",
       "3                         [(18, 216, SER&ACC#POSITIVE)]   \n",
       "4     [(0, 30, DESIGN#POSITIVE), (37, 48, FEATURES#N...   \n",
       "...                                                 ...   \n",
       "7780                        [(18, 37, CAMERA#NEGATIVE)]   \n",
       "7781                                                 []   \n",
       "7782                       [(0, 57, FEATURES#NEGATIVE)]   \n",
       "7783  [(25, 56, GENERAL#POSITIVE), (57, 123, FEATURE...   \n",
       "7784  [(0, 48, FEATURES#NEGATIVE), (49, 154, CAMERA#...   \n",
       "\n",
       "                                        all_span_aspect  \n",
       "0     [(pin sài tầm 50h cho pin 100 100, BATTERY#POS...  \n",
       "1     [(lag, PERFORMANCE#NEGATIVE), (hao pin, BATTER...  \n",
       "2     [(cam chụp cũng gọi là tầm trung, CAMERA#NEUTR...  \n",
       "3     [(chính sách đổi trả rất tốt rất yên tâm khi m...  \n",
       "4     [(kiểu dáng thì đẹp cầm chắc tay, DESIGN#POSIT...  \n",
       "...                                                 ...  \n",
       "7780           [(bị lỗi camera trước, CAMERA#NEGATIVE)]  \n",
       "7781                                                 []  \n",
       "7782  [(máy màn hình cứ tự sáng liên tục dù chẳng có...  \n",
       "7783  [(máy cảm thấy máy dùng rất thích, GENERAL#POS...  \n",
       "7784  [(máy bắt wifi 4g quá kém thường xuyên bị rớt ...  \n",
       "\n",
       "[7785 rows x 3 columns]"
      ]
     },
     "execution_count": 49,
     "metadata": {},
     "output_type": "execute_result"
    }
   ],
   "source": [
    "df_train"
   ]
  },
  {
   "cell_type": "code",
   "execution_count": 54,
   "metadata": {},
   "outputs": [],
   "source": [
    "del df_train['all_span_aspect']\n",
    "del df_dev['all_span_aspect']\n",
    "del df_test['all_span_aspect']"
   ]
  },
  {
   "cell_type": "code",
   "execution_count": 51,
   "metadata": {},
   "outputs": [],
   "source": [
    "df_train.text = df_train.text.apply(lambda x: tokenize(x))\n",
    "df_dev.text = df_dev.text.apply(lambda x: tokenize(x))\n",
    "df_test.text = df_test.text.apply(lambda x: tokenize(x))"
   ]
  },
  {
   "cell_type": "code",
   "execution_count": 55,
   "metadata": {},
   "outputs": [],
   "source": [
    "save_data_to_jsonl(df_train, 'data/process_data_split_words', 'train.jsonl')\n",
    "save_data_to_jsonl(df_dev, 'data/process_data_split_words', 'dev.jsonl')\n",
    "save_data_to_jsonl(df_test, 'data/process_data_split_words', 'test.jsonl')"
   ]
  },
  {
   "cell_type": "code",
   "execution_count": null,
   "metadata": {},
   "outputs": [],
   "source": [
    "def print_data(index):\n",
    "    print(f'Index: {index}')\n",
    "    print(df_train.iloc[index].text)\n",
    "    # print(df_train.iloc[index].labels)\n",
    "    # print(df_train.iloc[index].all_span_aspect)\n",
    "    print(df_train.iloc[index].labels)\n",
    "    print(\"\\n=============================================================================================\\n\")\n",
    "\n",
    "# loop through all data\n",
    "for i in range(len(df_train)):\n",
    "    print_data(i)"
   ]
  },
  {
   "cell_type": "markdown",
   "metadata": {},
   "source": [
    "# End"
   ]
  }
 ],
 "metadata": {
  "kernelspec": {
   "display_name": "Python 3",
   "language": "python",
   "name": "python3"
  },
  "language_info": {
   "codemirror_mode": {
    "name": "ipython",
    "version": 3
   },
   "file_extension": ".py",
   "mimetype": "text/x-python",
   "name": "python",
   "nbconvert_exporter": "python",
   "pygments_lexer": "ipython3",
   "version": "3.11.6"
  },
  "orig_nbformat": 4
 },
 "nbformat": 4,
 "nbformat_minor": 2
}
