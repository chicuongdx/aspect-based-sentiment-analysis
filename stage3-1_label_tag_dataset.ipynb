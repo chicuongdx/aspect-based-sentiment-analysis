{
 "cells": [
  {
   "cell_type": "code",
   "execution_count": 10,
   "metadata": {},
   "outputs": [],
   "source": [
    "TRAIN_PATH = 'data/process_data_no_split_words/train.json'\n",
    "TEST_PATH = 'data/process_data_no_split_words/test.json'\n",
    "DEV_PATH = 'data/process_data_no_split_words/dev.json'"
   ]
  },
  {
   "cell_type": "code",
   "execution_count": 28,
   "metadata": {},
   "outputs": [],
   "source": [
    "import pandas as pd\n",
    "\n",
    "df_train = pd.read_json(TRAIN_PATH)\n",
    "df_test = pd.read_json(TEST_PATH)\n",
    "df_dev = pd.read_json(DEV_PATH)"
   ]
  },
  {
   "cell_type": "code",
   "execution_count": 32,
   "metadata": {},
   "outputs": [],
   "source": [
    "df_train.labels = df_train.labels.apply(lambda label: [(ap[0], ap[1], ap[2].split('#')[0]) for ap in label])\n",
    "df_test.labels = df_test.labels.apply(lambda label: [(ap[0], ap[1], ap[2].split('#')[0]) for ap in label])\n",
    "df_dev.labels = df_dev.labels.apply(lambda label: [(ap[0], ap[1], ap[2].split('#')[0]) for ap in label])"
   ]
  },
  {
   "cell_type": "code",
   "execution_count": 33,
   "metadata": {},
   "outputs": [],
   "source": [
    "# label like this: [[start, end, tag]], ex: [[0, 30, 'DESIGN#POSITIVE'], [37, 48, 'FEATURES#NEGATIVE'], [49, 81, 'SER&ACC#POSITIVE']]\n",
    "# text like this: 'kiểu dáng thì đẹp cầm chắc tay nhưng loa nhỏ quá nhân viên phục vụ rất nhiệt tình'\n",
    "# convert to IOB format\n",
    "\n",
    "def convert_to_IOB_format(label, text):\n",
    "    # Tokenize the input text into words\n",
    "    tokens = text.split()\n",
    "\n",
    "    # Initialize an empty list to store the IOB-formatted tokens and labels\n",
    "    iob_labels = []\n",
    "\n",
    "    # Initialize variables to keep track of token positions\n",
    "    current_token_start = 0\n",
    "    current_token_end = 0\n",
    "\n",
    "    # Iterate through the tokens\n",
    "    for token in tokens:\n",
    "        # Calculate the start and end positions of the current token\n",
    "        current_token_start = text.find(token, current_token_end)\n",
    "        current_token_end = current_token_start + len(token)\n",
    "\n",
    "        # Determine the IOB tag for the current token\n",
    "        iob_tag = 'O'  # Default tag is Outside\n",
    "\n",
    "        for label_entry in label:\n",
    "            start, end, tag = label_entry\n",
    "            if current_token_start >= start and current_token_end <= end:\n",
    "                if current_token_start == start:\n",
    "                    iob_tag = 'B-' + tag  # Beginning of an entity\n",
    "                else:\n",
    "                    iob_tag = 'I-' + tag  # Inside an entity\n",
    "                break\n",
    "\n",
    "        # Append the token and its IOB tag to the list\n",
    "        iob_labels.append([current_token_start, current_token_end, iob_tag])\n",
    "\n",
    "    return iob_labels\n"
   ]
  },
  {
   "cell_type": "code",
   "execution_count": 34,
   "metadata": {},
   "outputs": [],
   "source": [
    "# Convert the labels in the training data, dev data, and test data to IOB format\n",
    "df_train.labels = df_train.apply(lambda row: convert_to_IOB_format(row.labels, row.text), axis=1)\n",
    "df_test.labels = df_test.apply(lambda row: convert_to_IOB_format(row.labels, row.text), axis=1)\n",
    "df_dev.labels = df_dev.apply(lambda row: convert_to_IOB_format(row.labels, row.text), axis=1)"
   ]
  },
  {
   "cell_type": "code",
   "execution_count": 40,
   "metadata": {},
   "outputs": [],
   "source": [
    "import os\n",
    "\n",
    "def save_data_to_csv(df, folder, filename):\n",
    "    if not os.path.exists(folder):\n",
    "        os.mkdir(folder)\n",
    "\n",
    "    with open(f'{folder}/{filename}', 'w', encoding='utf-8') as file:\n",
    "        df.to_json(file, force_ascii=False)"
   ]
  },
  {
   "cell_type": "code",
   "execution_count": 41,
   "metadata": {},
   "outputs": [],
   "source": [
    "# save to file csv\n",
    "save_data_to_csv(df_train, 'data/span_detection_datasets_IOB', 'train.json')\n",
    "save_data_to_csv(df_test, 'data/span_detection_datasets_IOB', 'test.json')\n",
    "save_data_to_csv(df_dev, 'data/span_detection_datasets_IOB', 'dev.json')"
   ]
  },
  {
   "cell_type": "markdown",
   "metadata": {},
   "source": [
    "# End"
   ]
  }
 ],
 "metadata": {
  "kernelspec": {
   "display_name": "udemy",
   "language": "python",
   "name": "python3"
  },
  "language_info": {
   "codemirror_mode": {
    "name": "ipython",
    "version": 3
   },
   "file_extension": ".py",
   "mimetype": "text/x-python",
   "name": "python",
   "nbconvert_exporter": "python",
   "pygments_lexer": "ipython3",
   "version": "3.11.0"
  }
 },
 "nbformat": 4,
 "nbformat_minor": 2
}
