{
 "cells": [
  {
   "cell_type": "code",
   "execution_count": 18,
   "metadata": {},
   "outputs": [],
   "source": [
    "import torch\n",
    "from bilstm_crf import BiLSTMCRF"
   ]
  },
  {
   "cell_type": "markdown",
   "metadata": {},
   "source": [
    "# Load data"
   ]
  },
  {
   "cell_type": "code",
   "execution_count": null,
   "metadata": {},
   "outputs": [],
   "source": [
    "import json\n",
    "\n",
    "# load vocab\n",
    "with open('data/vocab.txt', 'r') as f:\n",
    "    vocab = f.read().split('\\n')\n",
    "len(vocab)\n",
    "\n",
    "# load tag_to_id\n",
    "with open('data/tag_to_id.json', 'r') as f:\n",
    "    tag_to_id = json.load((f))"
   ]
  },
  {
   "cell_type": "code",
   "execution_count": 12,
   "metadata": {},
   "outputs": [],
   "source": [
    "# load train and dev data\n",
    "TRAIN_PATH = 'data/process_data/train.json'\n",
    "DEV_PATH = 'data/process_data/dev.json'\n",
    "\n",
    "with open(TRAIN_PATH, 'r') as f:\n",
    "    train_data = json.load(f)\n",
    "\n",
    "with open(DEV_PATH, 'r') as f:\n",
    "    dev_data = json.load(f)"
   ]
  },
  {
   "cell_type": "code",
   "execution_count": null,
   "metadata": {},
   "outputs": [],
   "source": [
    "train_sentences = list(train_data['text'].values())\n",
    "dev_sentences = list(dev_data['text'].values())\n",
    "\n",
    "train_labels = list(train_data['labels'].values())\n",
    "dev_labels = list(dev_data['labels'].values())"
   ]
  },
  {
   "cell_type": "code",
   "execution_count": 1,
   "metadata": {},
   "outputs": [],
   "source": [
    "import numpy as np\n",
    "\n",
    "# Convert data to ids\n",
    "def convert_to_ids(data, vocab, max_len=256):\n",
    "    id_data = []\n",
    "\n",
    "    pad_token_id = vocab.index('<PAD>')\n",
    "    ukn_token_id = vocab.index('<UKN>')\n",
    "    for sentence in data:\n",
    "        ids = []\n",
    "        for word in sentence.split():\n",
    "            if word in vocab:\n",
    "                ids.append(vocab.index(word))\n",
    "            else:\n",
    "                ids.append(ukn_token_id)\n",
    "\n",
    "        if len(ids) < max_len:\n",
    "            ids += [pad_token_id] * (max_len - len(ids))\n",
    "        id_data.append(np.array(ids))\n",
    "        \n",
    "    return id_data"
   ]
  },
  {
   "cell_type": "code",
   "execution_count": null,
   "metadata": {},
   "outputs": [],
   "source": [
    "train_tokenized = convert_to_ids(train_sentences, vocab)\n",
    "dev_tokenized = convert_to_ids(dev_sentences, vocab)"
   ]
  },
  {
   "cell_type": "markdown",
   "metadata": {},
   "source": [
    "# Model"
   ]
  },
  {
   "cell_type": "code",
   "execution_count": null,
   "metadata": {},
   "outputs": [],
   "source": [
    "import fasttext\n",
    "\n",
    "# Path to the FastText word vectors file\n",
    "weights_path = 'weights/cc.vi.300.vec'\n",
    "\n",
    "# Load FastText word vectors\n",
    "model = fasttext.load_model(weights_path)\n",
    "\n",
    "# Get the vocabulary and vector dimension\n",
    "vocabulary = model.words\n",
    "vector_dim = model.get_dimension()\n",
    "\n",
    "# Create an embedding matrix\n",
    "embedding_matrix = []\n",
    "\n",
    "for word in vocab:\n",
    "    vector = model.get_word_vector(word)\n",
    "    embedding_matrix.append(vector)\n",
    "\n",
    "# Convert the embedding matrix to a NumPy array\n",
    "import numpy as np\n",
    "embedding_matrix = np.array(embedding_matrix)\n",
    "\n",
    "# Now you have your embedding matrix\n",
    "print(\"Embedding Matrix Shape:\", embedding_matrix.shape)"
   ]
  },
  {
   "cell_type": "code",
   "execution_count": null,
   "metadata": {},
   "outputs": [],
   "source": [
    "# save embedding matrix\n",
    "np.save('data/embedding_matrix.npy', embedding_matrix)"
   ]
  },
  {
   "cell_type": "markdown",
   "metadata": {},
   "source": [
    "# End"
   ]
  }
 ],
 "metadata": {
  "kernelspec": {
   "display_name": "udemy",
   "language": "python",
   "name": "python3"
  },
  "language_info": {
   "codemirror_mode": {
    "name": "ipython",
    "version": 3
   },
   "file_extension": ".py",
   "mimetype": "text/x-python",
   "name": "python",
   "nbconvert_exporter": "python",
   "pygments_lexer": "ipython3",
   "version": "3.11.0"
  }
 },
 "nbformat": 4,
 "nbformat_minor": 2
}
