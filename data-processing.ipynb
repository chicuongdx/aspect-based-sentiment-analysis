{
 "cells": [
  {
   "cell_type": "code",
   "execution_count": 1,
   "metadata": {},
   "outputs": [],
   "source": [
    "TRAIN_PATH = 'data/train.jsonl'\n",
    "DEV_PATH = 'data/dev.jsonl'\n",
    "TEST_PATH = 'data/test.jsonl'"
   ]
  },
  {
   "cell_type": "code",
   "execution_count": 2,
   "metadata": {},
   "outputs": [],
   "source": [
    "import pandas as pd\n",
    "import json\n",
    "\n",
    "def read_jsonl_to_dataframe(file_path):\n",
    "    data = []\n",
    "\n",
    "    with open(file_path, 'r', encoding='utf-8') as file:\n",
    "        for line in file:\n",
    "            try:\n",
    "                json_obj = json.loads(line)\n",
    "                data.append(json_obj)\n",
    "            except json.JSONDecodeError as e:\n",
    "                print(f\"Skipping invalid JSON: {e}\")\n",
    "\n",
    "    df = pd.DataFrame(data)\n",
    "\n",
    "    return df"
   ]
  },
  {
   "cell_type": "code",
   "execution_count": 3,
   "metadata": {},
   "outputs": [],
   "source": [
    "df_train = read_jsonl_to_dataframe(TRAIN_PATH)\n",
    "df_dev = read_jsonl_to_dataframe(DEV_PATH)\n",
    "df_test = read_jsonl_to_dataframe(TEST_PATH)"
   ]
  },
  {
   "cell_type": "code",
   "execution_count": 4,
   "metadata": {},
   "outputs": [
    {
     "data": {
      "text/html": [
       "<div>\n",
       "<style scoped>\n",
       "    .dataframe tbody tr th:only-of-type {\n",
       "        vertical-align: middle;\n",
       "    }\n",
       "\n",
       "    .dataframe tbody tr th {\n",
       "        vertical-align: top;\n",
       "    }\n",
       "\n",
       "    .dataframe thead th {\n",
       "        text-align: right;\n",
       "    }\n",
       "</style>\n",
       "<table border=\"1\" class=\"dataframe\">\n",
       "  <thead>\n",
       "    <tr style=\"text-align: right;\">\n",
       "      <th></th>\n",
       "      <th>text</th>\n",
       "      <th>labels</th>\n",
       "    </tr>\n",
       "  </thead>\n",
       "  <tbody>\n",
       "    <tr>\n",
       "      <th>0</th>\n",
       "      <td>Pin Sài tầm 50h cho pin 100/100. Camera ổn ......</td>\n",
       "      <td>[[0, 31, BATTERY#POSITIVE], [33, 42, CAMERA#PO...</td>\n",
       "    </tr>\n",
       "    <tr>\n",
       "      <th>1</th>\n",
       "      <td>Lag và hao pin là cái tóm tắt về máy. S...</td>\n",
       "      <td>[[0, 3, PERFORMANCE#NEGATIVE], [8, 15, BATTERY...</td>\n",
       "    </tr>\n",
       "    <tr>\n",
       "      <th>2</th>\n",
       "      <td>Tất cả đều ổn ngoại trừ lúc máy nóng lên thì p...</td>\n",
       "      <td>[[79, 109, CAMERA#NEUTRAL], [111, 169, BATTERY...</td>\n",
       "    </tr>\n",
       "    <tr>\n",
       "      <th>3</th>\n",
       "      <td>Ok mua máy ở TGDD chính sách đổi trả rất tốt,r...</td>\n",
       "      <td>[[18, 217, SER&amp;ACC#POSITIVE]]</td>\n",
       "    </tr>\n",
       "    <tr>\n",
       "      <th>4</th>\n",
       "      <td>kiểu dáng thì đẹp,cầm chắc tay,nhưng loa nhỏ q...</td>\n",
       "      <td>[[0, 30, DESIGN#POSITIVE], [37, 48, FEATURES#N...</td>\n",
       "    </tr>\n",
       "    <tr>\n",
       "      <th>...</th>\n",
       "      <td>...</td>\n",
       "      <td>...</td>\n",
       "    </tr>\n",
       "    <tr>\n",
       "      <th>7780</th>\n",
       "      <td>Máy mua đc 2thang bị lỗi camera trước có đổi đ...</td>\n",
       "      <td>[[18, 37, CAMERA#NEGATIVE]]</td>\n",
       "    </tr>\n",
       "    <tr>\n",
       "      <th>7781</th>\n",
       "      <td>I bought this phone some hours ago, because I ...</td>\n",
       "      <td>[]</td>\n",
       "    </tr>\n",
       "    <tr>\n",
       "      <th>7782</th>\n",
       "      <td>Máy màn hình cứ tự sáng liên tục dù chẳng có t...</td>\n",
       "      <td>[[0, 57, FEATURES#NEGATIVE]]</td>\n",
       "    </tr>\n",
       "    <tr>\n",
       "      <th>7783</th>\n",
       "      <td>sau gần một tuần sử dụng máy cảm thấy máy dùng...</td>\n",
       "      <td>[[25, 56, GENERAL#POSITIVE], [57, 123, FEATURE...</td>\n",
       "    </tr>\n",
       "    <tr>\n",
       "      <th>7784</th>\n",
       "      <td>Máy bắt wifi, 4G quá kém, thường xuyên bị rớt ...</td>\n",
       "      <td>[[0, 50, FEATURES#NEGATIVE], [52, 160, CAMERA#...</td>\n",
       "    </tr>\n",
       "  </tbody>\n",
       "</table>\n",
       "<p>7785 rows × 2 columns</p>\n",
       "</div>"
      ],
      "text/plain": [
       "                                                   text  \\\n",
       "0     Pin Sài tầm 50h cho pin 100/100. Camera ổn ......   \n",
       "1     Lag và hao pin là cái tóm tắt về máy. S...   \n",
       "2     Tất cả đều ổn ngoại trừ lúc máy nóng lên thì p...   \n",
       "3     Ok mua máy ở TGDD chính sách đổi trả rất tốt,r...   \n",
       "4     kiểu dáng thì đẹp,cầm chắc tay,nhưng loa nhỏ q...   \n",
       "...                                                 ...   \n",
       "7780  Máy mua đc 2thang bị lỗi camera trước có đổi đ...   \n",
       "7781  I bought this phone some hours ago, because I ...   \n",
       "7782  Máy màn hình cứ tự sáng liên tục dù chẳng có t...   \n",
       "7783  sau gần một tuần sử dụng máy cảm thấy máy dùng...   \n",
       "7784  Máy bắt wifi, 4G quá kém, thường xuyên bị rớt ...   \n",
       "\n",
       "                                                 labels  \n",
       "0     [[0, 31, BATTERY#POSITIVE], [33, 42, CAMERA#PO...  \n",
       "1     [[0, 3, PERFORMANCE#NEGATIVE], [8, 15, BATTERY...  \n",
       "2     [[79, 109, CAMERA#NEUTRAL], [111, 169, BATTERY...  \n",
       "3                         [[18, 217, SER&ACC#POSITIVE]]  \n",
       "4     [[0, 30, DESIGN#POSITIVE], [37, 48, FEATURES#N...  \n",
       "...                                                 ...  \n",
       "7780                        [[18, 37, CAMERA#NEGATIVE]]  \n",
       "7781                                                 []  \n",
       "7782                       [[0, 57, FEATURES#NEGATIVE]]  \n",
       "7783  [[25, 56, GENERAL#POSITIVE], [57, 123, FEATURE...  \n",
       "7784  [[0, 50, FEATURES#NEGATIVE], [52, 160, CAMERA#...  \n",
       "\n",
       "[7785 rows x 2 columns]"
      ]
     },
     "execution_count": 4,
     "metadata": {},
     "output_type": "execute_result"
    }
   ],
   "source": [
    "df_train"
   ]
  },
  {
   "cell_type": "markdown",
   "metadata": {},
   "source": [
    "# Processing data"
   ]
  },
  {
   "cell_type": "code",
   "execution_count": 7,
   "metadata": {},
   "outputs": [],
   "source": [
    "def get_all_span_aspect(text, label):\n",
    "    \n",
    "    for span in label:\n",
    "        start, end, aspect_sentiment = span\n",
    "        aspect = text[start:end]\n",
    "        \n",
    "        yield aspect, aspect_sentiment\n",
    "\n",
    "df_train['all_span_aspect'] = df_train.apply(lambda row: list(get_all_span_aspect(row['text'], row['labels'])), axis=1)\n",
    "df_test['all_span_aspect'] = df_test.apply(lambda row: list(get_all_span_aspect(row['text'], row['labels'])), axis=1)\n",
    "df_dev['all_span_aspect'] = df_dev.apply(lambda row: list(get_all_span_aspect(row['text'], row['labels'])), axis=1)"
   ]
  },
  {
   "cell_type": "code",
   "execution_count": 9,
   "metadata": {},
   "outputs": [],
   "source": [
    "# save to csv\n",
    "df_train.to_csv('extract_span/train.csv')\n",
    "df_test.to_csv('extract_span/test.csv')\n",
    "df_dev.to_csv('extract_span/dev.csv')"
   ]
  },
  {
   "cell_type": "code",
   "execution_count": 4,
   "metadata": {},
   "outputs": [],
   "source": [
    "from underthesea import word_tokenize\n",
    "import regex as re\n",
    "\n",
    "def tokenize(text):\n",
    "    return word_tokenize(text, format=\"text\")\n",
    "\n",
    "def preprocess(text):\n",
    "    text = text.lower()\n",
    "    text = re.sub(r\"[^\\w\\s]\", \" \", text) # remove punctuation\n",
    "    text = re.sub(r\"\\s+\", \" \", text) # remove extra space\n",
    "    text = text.strip()\n",
    "    return text\n",
    "\n",
    "def post_process(text):\n",
    "\n",
    "    text = tokenize(text)\n",
    "    text = preprocess(text)\n",
    "\n",
    "    return text"
   ]
  },
  {
   "cell_type": "code",
   "execution_count": 5,
   "metadata": {},
   "outputs": [],
   "source": [
    "def process_data_frame(df):\n",
    "    new_df = pd.DataFrame()\n",
    "    new_df['text'] = df['text'].apply(lambda x: post_process(x))\n",
    "    new_df['labels'] = df['labels']\n",
    "    return new_df"
   ]
  },
  {
   "cell_type": "code",
   "execution_count": 9,
   "metadata": {},
   "outputs": [],
   "source": [
    "new_train_df = process_data_frame(df_train)\n",
    "new_dev_df = process_data_frame(df_dev)\n",
    "new_test_df = process_data_frame(df_test)"
   ]
  },
  {
   "cell_type": "code",
   "execution_count": 27,
   "metadata": {},
   "outputs": [
    {
     "data": {
      "text/plain": [
       "11"
      ]
     },
     "execution_count": 27,
     "metadata": {},
     "output_type": "execute_result"
    }
   ],
   "source": [
    "len_labels = []\n",
    "for label in new_train_df['labels']:\n",
    "    len_labels.append(len(label))\n",
    "\n",
    "max(len_labels)"
   ]
  },
  {
   "cell_type": "code",
   "execution_count": 12,
   "metadata": {},
   "outputs": [],
   "source": [
    "# save data\n",
    "import os\n",
    "\n",
    "def save_data_to_csv(df, folder, filename):\n",
    "    if not os.path.exists(folder):\n",
    "        os.mkdir(folder)\n",
    "    \n",
    "    df.to_csv(f'{folder}/{filename}', encoding='utf-8', index=False)\n",
    "\n",
    "save_data_to_csv(new_train_df, 'process_data', 'train.csv')\n",
    "save_data_to_csv(new_dev_df, 'process_data', 'dev.csv')\n",
    "save_data_to_csv(new_test_df, 'process_data', 'test.csv')"
   ]
  },
  {
   "cell_type": "markdown",
   "metadata": {},
   "source": [
    "# End"
   ]
  }
 ],
 "metadata": {
  "kernelspec": {
   "display_name": "Python 3",
   "language": "python",
   "name": "python3"
  },
  "language_info": {
   "codemirror_mode": {
    "name": "ipython",
    "version": 3
   },
   "file_extension": ".py",
   "mimetype": "text/x-python",
   "name": "python",
   "nbconvert_exporter": "python",
   "pygments_lexer": "ipython3",
   "version": "3.11.0"
  },
  "orig_nbformat": 4
 },
 "nbformat": 4,
 "nbformat_minor": 2
}
