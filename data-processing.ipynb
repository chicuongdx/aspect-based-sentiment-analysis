{
 "cells": [
  {
   "cell_type": "code",
   "execution_count": 1,
   "metadata": {},
   "outputs": [],
   "source": [
    "TRAIN_PATH = 'data/original/train.jsonl'\n",
    "DEV_PATH = 'data/original/dev.jsonl'\n",
    "TEST_PATH = 'data/original/test.jsonl'"
   ]
  },
  {
   "cell_type": "code",
   "execution_count": 2,
   "metadata": {},
   "outputs": [],
   "source": [
    "import pandas as pd\n",
    "import json\n",
    "\n",
    "def read_jsonl_to_dataframe(file_path):\n",
    "    data = []\n",
    "\n",
    "    with open(file_path, 'r', encoding='utf-8') as file:\n",
    "        for line in file:\n",
    "            try:\n",
    "                json_obj = json.loads(line)\n",
    "                data.append(json_obj)\n",
    "            except json.JSONDecodeError as e:\n",
    "                print(f\"Skipping invalid JSON: {e}\")\n",
    "\n",
    "    df = pd.DataFrame(data)\n",
    "\n",
    "    return df"
   ]
  },
  {
   "cell_type": "code",
   "execution_count": 3,
   "metadata": {},
   "outputs": [],
   "source": [
    "df_train = read_jsonl_to_dataframe(TRAIN_PATH)\n",
    "df_dev = read_jsonl_to_dataframe(DEV_PATH)\n",
    "df_test = read_jsonl_to_dataframe(TEST_PATH)"
   ]
  },
  {
   "cell_type": "markdown",
   "metadata": {},
   "source": [
    "# Processing data"
   ]
  },
  {
   "cell_type": "code",
   "execution_count": 4,
   "metadata": {},
   "outputs": [],
   "source": [
    "def get_all_span_aspect(text, label):\n",
    "    \n",
    "    for span in label:\n",
    "        start, end, aspect_sentiment = span\n",
    "        aspect = text[start:end]\n",
    "        \n",
    "        yield aspect, aspect_sentiment\n",
    "\n",
    "df_train['all_span_aspect'] = df_train.apply(lambda row: list(get_all_span_aspect(row['text'], row['labels'])), axis=1)\n",
    "df_test['all_span_aspect'] = df_test.apply(lambda row: list(get_all_span_aspect(row['text'], row['labels'])), axis=1)\n",
    "df_dev['all_span_aspect'] = df_dev.apply(lambda row: list(get_all_span_aspect(row['text'], row['labels'])), axis=1)"
   ]
  },
  {
   "cell_type": "code",
   "execution_count": null,
   "metadata": {},
   "outputs": [],
   "source": [
    "# # save to csv\n",
    "# df_train.to_csv('data/extract_span/train.csv')\n",
    "# df_test.to_csv('data/extract_span/test.csv')\n",
    "# df_dev.to_csv('data/extract_span/dev.csv')"
   ]
  },
  {
   "cell_type": "code",
   "execution_count": 6,
   "metadata": {},
   "outputs": [],
   "source": [
    "from underthesea import word_tokenize\n",
    "import regex as re\n",
    "\n",
    "def tokenize(text):\n",
    "    return word_tokenize(text, format=\"text\")\n",
    "\n",
    "def preprocess(text):\n",
    "    text = text.lower()\n",
    "    # text = re.sub(r\"[^\\w\\s]\", \" \", text) # remove punctuation\n",
    "    # text = re.sub(r\"\\s+\", \" \", text) # remove extra space\n",
    "    text = text.strip()\n",
    "    return text\n",
    "\n",
    "def post_process(text):\n",
    "\n",
    "    text = tokenize(text)\n",
    "    text = preprocess(text)\n",
    "\n",
    "    return text"
   ]
  },
  {
   "cell_type": "code",
   "execution_count": 7,
   "metadata": {},
   "outputs": [],
   "source": [
    "def process_data_frame(df):\n",
    "    new_df = pd.DataFrame()\n",
    "    new_df['text'] = df['text'].apply(lambda x: post_process(x))\n",
    "    new_df['labels'] = df['labels']\n",
    "    return new_df"
   ]
  },
  {
   "cell_type": "code",
   "execution_count": 8,
   "metadata": {},
   "outputs": [],
   "source": [
    "new_train_df = process_data_frame(df_train)\n",
    "new_dev_df = process_data_frame(df_dev)\n",
    "new_test_df = process_data_frame(df_test)"
   ]
  },
  {
   "cell_type": "code",
   "execution_count": 12,
   "metadata": {},
   "outputs": [],
   "source": [
    "# save data\n",
    "import os\n",
    "\n",
    "def save_data_to_csv(df, folder, filename):\n",
    "    if not os.path.exists(folder):\n",
    "        os.mkdir(folder)\n",
    "\n",
    "    with open(f'{folder}/{filename}', 'w', encoding='utf-8') as file:\n",
    "        df.to_json(file, force_ascii=False)\n",
    "\n",
    "save_data_to_csv(new_train_df, 'data/process_data', 'train.json')\n",
    "save_data_to_csv(new_dev_df, 'data/process_data', 'dev.json')\n",
    "save_data_to_csv(new_test_df, 'data/process_data', 'test.json')"
   ]
  },
  {
   "cell_type": "markdown",
   "metadata": {},
   "source": [
    "# End"
   ]
  }
 ],
 "metadata": {
  "kernelspec": {
   "display_name": "Python 3",
   "language": "python",
   "name": "python3"
  },
  "language_info": {
   "codemirror_mode": {
    "name": "ipython",
    "version": 3
   },
   "file_extension": ".py",
   "mimetype": "text/x-python",
   "name": "python",
   "nbconvert_exporter": "python",
   "pygments_lexer": "ipython3",
   "version": "3.11.0"
  },
  "orig_nbformat": 4
 },
 "nbformat": 4,
 "nbformat_minor": 2
}
