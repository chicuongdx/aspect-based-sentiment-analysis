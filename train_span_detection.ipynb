{
 "cells": [
  {
   "cell_type": "code",
   "execution_count": 20,
   "metadata": {},
   "outputs": [],
   "source": [
    "import tensorflow as tf\n",
    "\n",
    "# from bilstm_crf import build_bilstm\n",
    "import numpy as np"
   ]
  },
  {
   "cell_type": "code",
   "execution_count": 123,
   "metadata": {},
   "outputs": [],
   "source": [
    "import pickle\n",
    "import operator\n",
    "import re\n",
    "import string\n",
    "import pandas as pd\n",
    "import numpy as np\n",
    "import matplotlib.pyplot as plt\n",
    "import tensorflow as tf\n",
    "\n",
    "# from plot_keras_history import plot_history\n",
    "# from sklearn.model_selection import train_test_split\n",
    "# from sklearn.metrics import multilabel_confusion_matrix\n",
    "# from keras_contrib.utils import save_load_utils\n",
    "\n",
    "from keras import layers\n",
    "from keras import optimizers\n",
    "\n",
    "from keras.models import Model\n",
    "# from keras import Input\n",
    "from tensorflow_addons import metrics\n",
    "from tensorflow_addons import losses\n",
    "from tensorflow_addons.layers import CRF\n",
    "from tensorflow_addons.text.crf import crf_log_likelihood\n",
    "\n",
    "\n",
    "\n",
    "def build_bilstm(max_len, vocab_size, n_tags, embedding_matrix=None, embedding_dim=None, unit='lstm', num_units=100, dropout=0.1, recurrent_dropout=0.1, name='bilstm_crf'):\n",
    "    input = layers.Input(shape=(max_len,))\n",
    "\n",
    "    if embedding_matrix is not None:\n",
    "        model = layers.Embedding(input_dim=vocab_size, output_dim=embedding_matrix.shape[-1], input_length=max_len, mask_zero=True, weights=[embedding_matrix], trainable=False)(input)\n",
    "    elif embedding_dim is not None:\n",
    "        model = layers.Embedding(input_dim=vocab_size, output_dim=embedding_dim, input_length=max_len, mask_zero=True, embeddings_initializer='uniform')(input)\n",
    "    else:\n",
    "        raise ValueError('Must provide either an embedding matrix or an embedding dimension.')\n",
    "\n",
    "    if unit == 'lstm':\n",
    "        model = layers.Bidirectional(layers.LSTM(units=num_units, return_sequences=True, dropout=recurrent_dropout))(model)\n",
    "    elif unit == 'gru':\n",
    "        model = layers.Bidirectional(layers.GRU(units=num_units, return_sequences=True, dropout=recurrent_dropout))(model)\n",
    "    elif unit == 'rnn':\n",
    "        model = layers.Bidirectional(layers.SimpleRNN(units=num_units, return_sequences=True, dropout=recurrent_dropout))(model)\n",
    "    else:\n",
    "        raise ValueError('Invalid unit type. Must be one of lstm, gru, or rnn.')\n",
    "\n",
    "    model = layers.Dropout(dropout)(model)\n",
    "    model = layers.TimeDistributed(layers.Dense(n_tags, activation=\"relu\"))(model)\n",
    "\n",
    "    crf_layer = CRF(units=n_tags)\n",
    "    output_layer  = crf_layer(model)\n",
    "\n",
    "    output_model = Model(input, output_layer, name=name)\n",
    "\n",
    "    # loss = losses.SigmoidFocalCrossEntropy()\n",
    "    metric = metrics.F1Score(num_classes=n_tags, average='micro')\n",
    "    \n",
    "    opt = optimizers.RMSprop(learning_rate=0.01)\n",
    "\n",
    "    output_model.compile(optimizer=opt, loss='categorical_crossentropy', metrics=['accuracy', metric])\n",
    "    output_model.summary()\n",
    "\n",
    "    return output_model"
   ]
  },
  {
   "cell_type": "markdown",
   "metadata": {},
   "source": [
    "# Load material"
   ]
  },
  {
   "cell_type": "code",
   "execution_count": 22,
   "metadata": {},
   "outputs": [],
   "source": [
    "import json\n",
    "\n",
    "# load embedding\n",
    "embedding_maxtrix = np.load('embedding/embedding_matrix.npy')\n",
    "\n",
    "# load vocab\n",
    "with open('data/vocab.txt', 'r') as f:\n",
    "    vocab = f.read().split('\\n')\n",
    "len(vocab)\n",
    "\n",
    "# load tag_to_id\n",
    "with open('data/tag_to_id.json', 'r') as f:\n",
    "    tag_to_id = json.load((f))\n",
    "\n",
    "# load train and dev data\n",
    "TRAIN_PATH = 'data/span_detection_datasets_IOB/train.json'\n",
    "DEV_PATH = 'data/span_detection_datasets_IOB/dev.json'\n",
    "\n",
    "with open(TRAIN_PATH, 'r') as f:\n",
    "    train_data = json.load(f)\n",
    "\n",
    "with open(DEV_PATH, 'r') as f:\n",
    "    dev_data = json.load(f)\n",
    "\n",
    "train_sentences = list(train_data['text'].values())\n",
    "dev_sentences = list(dev_data['text'].values())\n",
    "\n",
    "train_labels = list(train_data['labels'].values())\n",
    "dev_labels = list(dev_data['labels'].values())"
   ]
  },
  {
   "cell_type": "markdown",
   "metadata": {},
   "source": [
    "# Convert data"
   ]
  },
  {
   "cell_type": "markdown",
   "metadata": {},
   "source": [
    "## Sentences"
   ]
  },
  {
   "cell_type": "code",
   "execution_count": 23,
   "metadata": {},
   "outputs": [],
   "source": [
    "import numpy as np\n",
    "\n",
    "# Convert data to ids\n",
    "def convert_to_ids(data, vocab, max_len=256):\n",
    "    id_data = []\n",
    "\n",
    "    pad_token_id = vocab.index('<PAD>')\n",
    "    ukn_token_id = vocab.index('<UNK>')\n",
    "    for sentence in data:\n",
    "        ids = []\n",
    "        for word in sentence.split():\n",
    "            if word in vocab:\n",
    "                ids.append(vocab.index(word))\n",
    "            else:\n",
    "                ids.append(ukn_token_id)\n",
    "\n",
    "        if len(ids) < max_len:\n",
    "            ids += [pad_token_id] * (max_len - len(ids))\n",
    "        id_data.append(np.array(ids))\n",
    "        \n",
    "    return id_data"
   ]
  },
  {
   "cell_type": "code",
   "execution_count": 96,
   "metadata": {},
   "outputs": [],
   "source": [
    "train_tokenized = np.array(convert_to_ids(train_sentences, vocab), dtype=np.float32)\n",
    "dev_tokenized = np.array(convert_to_ids(dev_sentences, vocab), dtype=np.float32)\n",
    "\n",
    "# train_tokenized = [torch.LongTensor(tokenized) for tokenized in train_tokenized]\n",
    "# dev_tokenized = [torch.LongTensor(tokenized) for tokenized in dev_tokenized]"
   ]
  },
  {
   "cell_type": "markdown",
   "metadata": {},
   "source": [
    "## Labels"
   ]
  },
  {
   "cell_type": "code",
   "execution_count": 108,
   "metadata": {},
   "outputs": [],
   "source": [
    "# load tag_to_id\n",
    "with open('data/tag_to_id.json', 'r') as f:\n",
    "    tag_to_id = json.load((f))\n",
    "\n",
    "# Convert labels to ids\n",
    "# labels = [[start, end, tag], ...]\n",
    "def convert_labels_to_ids(label, tag_to_id, max_len=256):\n",
    "    ids = [int(tag_to_id[tag]) for tag in label]\n",
    "\n",
    "    if len(ids) < max_len:\n",
    "        ids += [int(tag_to_id['O'])] * (max_len - len(ids))\n",
    "        \n",
    "    return np.array(ids, dtype=np.int32)"
   ]
  },
  {
   "cell_type": "code",
   "execution_count": 109,
   "metadata": {},
   "outputs": [],
   "source": [
    "train_labels_encoding = np.array([convert_labels_to_ids(label, tag_to_id) for label in train_labels], dtype=np.int32)\n",
    "dev_labels_encoding = np.array([convert_labels_to_ids(label, tag_to_id) for label in dev_labels], dtype=np.int32)\n",
    "\n",
    "# train_labels_encoding = np.expand_dims(train_labels_encoding, axis=2)\n",
    "# dev_labels_encoding = np.expand_dims(dev_labels_encoding, axis=2)\n",
    "\n",
    "# train_labels_encoding = [torch.LongTensor(label) for label in train_labels_encoding]\n",
    "# dev_labels_encoding = [torch.LongTensor(label) for label in dev_labels_encoding]"
   ]
  },
  {
   "cell_type": "markdown",
   "metadata": {},
   "source": [
    "## Loader"
   ]
  },
  {
   "cell_type": "code",
   "execution_count": 111,
   "metadata": {},
   "outputs": [],
   "source": [
    "# create data loader tensorflow\n",
    "BATCH_SIZE = 32\n",
    "BUFFER_SIZE = 1000\n",
    "\n",
    "train_dataset = tf.data.Dataset.from_tensor_slices((train_tokenized, train_labels_encoding))\n",
    "train_dataset = train_dataset.shuffle(BUFFER_SIZE).batch(BATCH_SIZE, drop_remainder=True)\n",
    "\n",
    "dev_dataset = tf.data.Dataset.from_tensor_slices((dev_tokenized, dev_labels_encoding))\n",
    "dev_dataset = dev_dataset.shuffle(BUFFER_SIZE).batch(BATCH_SIZE, drop_remainder=True)"
   ]
  },
  {
   "cell_type": "markdown",
   "metadata": {},
   "source": [
    "# Model"
   ]
  },
  {
   "cell_type": "code",
   "execution_count": 112,
   "metadata": {},
   "outputs": [],
   "source": [
    "# Hyperparameters\n",
    "MAX_LEN = 256\n",
    "VOCAB_SIZE = len(vocab)\n",
    "TAG_SIZE = len(tag_to_id)\n",
    "UNITS = 100\n",
    "EMBEDDING_DIM = 300"
   ]
  },
  {
   "cell_type": "code",
   "execution_count": 124,
   "metadata": {},
   "outputs": [
    {
     "name": "stdout",
     "output_type": "stream",
     "text": [
      "Model: \"bilstm-crf-v1\"\n",
      "_________________________________________________________________\n",
      " Layer (type)                Output Shape              Param #   \n",
      "=================================================================\n",
      " input_21 (InputLayer)       [(None, 256)]             0         \n",
      "                                                                 \n",
      " embedding_20 (Embedding)    (None, 256, 300)          2697900   \n",
      "                                                                 \n",
      " bidirectional_20 (Bidirect  (None, 256, 200)          320800    \n",
      " ional)                                                          \n",
      "                                                                 \n",
      " dropout_20 (Dropout)        (None, 256, 200)          0         \n",
      "                                                                 \n",
      " time_distributed_20 (TimeD  (None, 256, 21)           4221      \n",
      " istributed)                                                     \n",
      "                                                                 \n",
      " crf_19 (CRF)                [(None, 256),             945       \n",
      "                              (None, 256, 21),                   \n",
      "                              (None,),                           \n",
      "                              (21, 21)]                          \n",
      "                                                                 \n",
      "=================================================================\n",
      "Total params: 3023866 (11.54 MB)\n",
      "Trainable params: 3023866 (11.54 MB)\n",
      "Non-trainable params: 0 (0.00 Byte)\n",
      "_________________________________________________________________\n"
     ]
    }
   ],
   "source": [
    "# build_bilstm(max_len, vocab_size, n_tags, embedding_matrix=None, embedding_dim=None, unit='lstm', num_units=100, dropout=0.1, recurrent_dropout=0.1)\n",
    "\n",
    "model = build_bilstm(\n",
    "    max_len=MAX_LEN,\n",
    "    vocab_size=VOCAB_SIZE,\n",
    "    n_tags=TAG_SIZE,\n",
    "    embedding_dim=EMBEDDING_DIM,\n",
    "    unit='lstm',\n",
    "    num_units=UNITS,\n",
    "    dropout=0.1,\n",
    "    recurrent_dropout=0.1,\n",
    "    name='bilstm-crf-v1'\n",
    ")"
   ]
  },
  {
   "cell_type": "code",
   "execution_count": 125,
   "metadata": {},
   "outputs": [
    {
     "name": "stdout",
     "output_type": "stream",
     "text": [
      "Epoch 1/10\n",
      "WARNING:tensorflow:AutoGraph could not transform <function Model.make_train_function.<locals>.train_function at 0x000001C621D62A20> and will run it as-is.\n",
      "Please report this to the TensorFlow team. When filing the bug, set the verbosity to 10 (on Linux, `export AUTOGRAPH_VERBOSITY=10`) and attach the full output.\n",
      "Cause: Unknown node type <gast.gast.Assign object at 0x000001C61E146A40>\n",
      "To silence this warning, decorate the function with @tf.autograph.experimental.do_not_convert\n"
     ]
    },
    {
     "name": "stderr",
     "output_type": "stream",
     "text": [
      "WARNING:tensorflow:AutoGraph could not transform <function Model.make_train_function.<locals>.train_function at 0x000001C621D62A20> and will run it as-is.\n",
      "Please report this to the TensorFlow team. When filing the bug, set the verbosity to 10 (on Linux, `export AUTOGRAPH_VERBOSITY=10`) and attach the full output.\n",
      "Cause: Unknown node type <gast.gast.Assign object at 0x000001C61E146A40>\n",
      "To silence this warning, decorate the function with @tf.autograph.experimental.do_not_convert\n"
     ]
    },
    {
     "name": "stdout",
     "output_type": "stream",
     "text": [
      "WARNING: AutoGraph could not transform <function Model.make_train_function.<locals>.train_function at 0x000001C621D62A20> and will run it as-is.\n",
      "Please report this to the TensorFlow team. When filing the bug, set the verbosity to 10 (on Linux, `export AUTOGRAPH_VERBOSITY=10`) and attach the full output.\n",
      "Cause: Unknown node type <gast.gast.Assign object at 0x000001C61E146A40>\n",
      "To silence this warning, decorate the function with @tf.autograph.experimental.do_not_convert\n"
     ]
    },
    {
     "ename": "TypeError",
     "evalue": "Expected int32, but got 0.0 of type 'float'.",
     "output_type": "error",
     "traceback": [
      "\u001b[1;31m---------------------------------------------------------------------------\u001b[0m",
      "\u001b[1;31mTypeError\u001b[0m                                 Traceback (most recent call last)",
      "\u001b[1;32md:\\CLOUDX\\Courses\\nlp\\aspect-based-sentiment-analysis\\train.ipynb Cell 17\u001b[0m line \u001b[0;36m4\n\u001b[0;32m      <a href='vscode-notebook-cell:/d%3A/CLOUDX/Courses/nlp/aspect-based-sentiment-analysis/train.ipynb#X20sZmlsZQ%3D%3D?line=0'>1</a>\u001b[0m \u001b[39m# train model\u001b[39;00m\n\u001b[0;32m      <a href='vscode-notebook-cell:/d%3A/CLOUDX/Courses/nlp/aspect-based-sentiment-analysis/train.ipynb#X20sZmlsZQ%3D%3D?line=1'>2</a>\u001b[0m EPOCHS \u001b[39m=\u001b[39m \u001b[39m10\u001b[39m\n\u001b[1;32m----> <a href='vscode-notebook-cell:/d%3A/CLOUDX/Courses/nlp/aspect-based-sentiment-analysis/train.ipynb#X20sZmlsZQ%3D%3D?line=3'>4</a>\u001b[0m history \u001b[39m=\u001b[39m model\u001b[39m.\u001b[39;49mfit(\n\u001b[0;32m      <a href='vscode-notebook-cell:/d%3A/CLOUDX/Courses/nlp/aspect-based-sentiment-analysis/train.ipynb#X20sZmlsZQ%3D%3D?line=4'>5</a>\u001b[0m     train_dataset,\n\u001b[0;32m      <a href='vscode-notebook-cell:/d%3A/CLOUDX/Courses/nlp/aspect-based-sentiment-analysis/train.ipynb#X20sZmlsZQ%3D%3D?line=5'>6</a>\u001b[0m     validation_data\u001b[39m=\u001b[39;49mdev_dataset,\n\u001b[0;32m      <a href='vscode-notebook-cell:/d%3A/CLOUDX/Courses/nlp/aspect-based-sentiment-analysis/train.ipynb#X20sZmlsZQ%3D%3D?line=6'>7</a>\u001b[0m     epochs\u001b[39m=\u001b[39;49mEPOCHS\n\u001b[0;32m      <a href='vscode-notebook-cell:/d%3A/CLOUDX/Courses/nlp/aspect-based-sentiment-analysis/train.ipynb#X20sZmlsZQ%3D%3D?line=7'>8</a>\u001b[0m )\n",
      "File \u001b[1;32mc:\\Users\\Hii\\miniconda3\\envs\\udemy\\Lib\\site-packages\\keras\\src\\utils\\traceback_utils.py:70\u001b[0m, in \u001b[0;36mfilter_traceback.<locals>.error_handler\u001b[1;34m(*args, **kwargs)\u001b[0m\n\u001b[0;32m     67\u001b[0m     filtered_tb \u001b[39m=\u001b[39m _process_traceback_frames(e\u001b[39m.\u001b[39m__traceback__)\n\u001b[0;32m     68\u001b[0m     \u001b[39m# To get the full stack trace, call:\u001b[39;00m\n\u001b[0;32m     69\u001b[0m     \u001b[39m# `tf.debugging.disable_traceback_filtering()`\u001b[39;00m\n\u001b[1;32m---> 70\u001b[0m     \u001b[39mraise\u001b[39;00m e\u001b[39m.\u001b[39mwith_traceback(filtered_tb) \u001b[39mfrom\u001b[39;00m \u001b[39mNone\u001b[39;00m\n\u001b[0;32m     71\u001b[0m \u001b[39mfinally\u001b[39;00m:\n\u001b[0;32m     72\u001b[0m     \u001b[39mdel\u001b[39;00m filtered_tb\n",
      "File \u001b[1;32mc:\\Users\\Hii\\miniconda3\\envs\\udemy\\Lib\\site-packages\\keras\\src\\losses.py:2199\u001b[0m, in \u001b[0;36mcategorical_crossentropy\u001b[1;34m(y_true, y_pred, from_logits, label_smoothing, axis)\u001b[0m\n\u001b[0;32m   2166\u001b[0m \u001b[39m@keras_export\u001b[39m(\n\u001b[0;32m   2167\u001b[0m     \u001b[39m\"\u001b[39m\u001b[39mkeras.metrics.categorical_focal_crossentropy\u001b[39m\u001b[39m\"\u001b[39m,\n\u001b[0;32m   2168\u001b[0m     \u001b[39m\"\u001b[39m\u001b[39mkeras.losses.categorical_focal_crossentropy\u001b[39m\u001b[39m\"\u001b[39m,\n\u001b[1;32m   (...)\u001b[0m\n\u001b[0;32m   2178\u001b[0m     axis\u001b[39m=\u001b[39m\u001b[39m-\u001b[39m\u001b[39m1\u001b[39m,\n\u001b[0;32m   2179\u001b[0m ):\n\u001b[0;32m   2180\u001b[0m \u001b[39m    \u001b[39m\u001b[39m\"\"\"Computes the categorical focal crossentropy loss.\u001b[39;00m\n\u001b[0;32m   2181\u001b[0m \n\u001b[0;32m   2182\u001b[0m \u001b[39m    Standalone usage:\u001b[39;00m\n\u001b[0;32m   2183\u001b[0m \u001b[39m    >>> y_true = [[0, 1, 0], [0, 0, 1]]\u001b[39;00m\n\u001b[0;32m   2184\u001b[0m \u001b[39m    >>> y_pred = [[0.05, 0.9, 0.05], [0.1, 0.85, 0.05]]\u001b[39;00m\n\u001b[0;32m   2185\u001b[0m \u001b[39m    >>> loss = tf.keras.losses.categorical_focal_crossentropy(y_true, y_pred)\u001b[39;00m\n\u001b[0;32m   2186\u001b[0m \u001b[39m    >>> assert loss.shape == (2,)\u001b[39;00m\n\u001b[0;32m   2187\u001b[0m \u001b[39m    >>> loss.numpy()\u001b[39;00m\n\u001b[0;32m   2188\u001b[0m \u001b[39m    array([2.63401289e-04, 6.75912094e-01], dtype=float32)\u001b[39;00m\n\u001b[0;32m   2189\u001b[0m \n\u001b[0;32m   2190\u001b[0m \u001b[39m    Args:\u001b[39;00m\n\u001b[0;32m   2191\u001b[0m \u001b[39m        y_true: Tensor of one-hot true targets.\u001b[39;00m\n\u001b[0;32m   2192\u001b[0m \u001b[39m        y_pred: Tensor of predicted targets.\u001b[39;00m\n\u001b[0;32m   2193\u001b[0m \u001b[39m        alpha: A weight balancing factor for all classes, default is `0.25` as\u001b[39;00m\n\u001b[0;32m   2194\u001b[0m \u001b[39m            mentioned in the reference. It can be a list of floats or a scalar.\u001b[39;00m\n\u001b[0;32m   2195\u001b[0m \u001b[39m            In the multi-class case, alpha may be set by inverse class\u001b[39;00m\n\u001b[0;32m   2196\u001b[0m \u001b[39m            frequency by using `compute_class_weight` from `sklearn.utils`.\u001b[39;00m\n\u001b[0;32m   2197\u001b[0m \u001b[39m        gamma: A focusing parameter, default is `2.0` as mentioned in the\u001b[39;00m\n\u001b[0;32m   2198\u001b[0m \u001b[39m            reference. It helps to gradually reduce the importance given to\u001b[39;00m\n\u001b[1;32m-> 2199\u001b[0m \u001b[39m            simple examples in a smooth manner. When `gamma` = 0, there is\u001b[39;00m\n\u001b[0;32m   2200\u001b[0m \u001b[39m            no focal effect on the categorical crossentropy.\u001b[39;00m\n\u001b[0;32m   2201\u001b[0m \u001b[39m        from_logits: Whether `y_pred` is expected to be a logits tensor. By\u001b[39;00m\n\u001b[0;32m   2202\u001b[0m \u001b[39m            default, we assume that `y_pred` encodes a probability\u001b[39;00m\n\u001b[0;32m   2203\u001b[0m \u001b[39m            distribution.\u001b[39;00m\n\u001b[0;32m   2204\u001b[0m \u001b[39m        label_smoothing: Float in [0, 1]. If > `0` then smooth the labels. For\u001b[39;00m\n\u001b[0;32m   2205\u001b[0m \u001b[39m            example, if `0.1`, use `0.1 / num_classes` for non-target labels\u001b[39;00m\n\u001b[0;32m   2206\u001b[0m \u001b[39m            and `0.9 + 0.1 / num_classes` for target labels.\u001b[39;00m\n\u001b[0;32m   2207\u001b[0m \u001b[39m        axis: Defaults to -1. The dimension along which the entropy is\u001b[39;00m\n\u001b[0;32m   2208\u001b[0m \u001b[39m            computed.\u001b[39;00m\n\u001b[0;32m   2209\u001b[0m \n\u001b[0;32m   2210\u001b[0m \u001b[39m    Returns:\u001b[39;00m\n\u001b[0;32m   2211\u001b[0m \u001b[39m        Categorical focal crossentropy loss value.\u001b[39;00m\n\u001b[0;32m   2212\u001b[0m \u001b[39m    \"\"\"\u001b[39;00m\n\u001b[0;32m   2213\u001b[0m     \u001b[39mif\u001b[39;00m \u001b[39misinstance\u001b[39m(axis, \u001b[39mbool\u001b[39m):\n\u001b[0;32m   2214\u001b[0m         \u001b[39mraise\u001b[39;00m \u001b[39mValueError\u001b[39;00m(\n\u001b[0;32m   2215\u001b[0m             \u001b[39m\"\u001b[39m\u001b[39m`axis` must be of type `int`. \u001b[39m\u001b[39m\"\u001b[39m\n\u001b[0;32m   2216\u001b[0m             \u001b[39mf\u001b[39m\u001b[39m\"\u001b[39m\u001b[39mReceived: axis=\u001b[39m\u001b[39m{\u001b[39;00maxis\u001b[39m}\u001b[39;00m\u001b[39m of type \u001b[39m\u001b[39m{\u001b[39;00m\u001b[39mtype\u001b[39m(axis)\u001b[39m}\u001b[39;00m\u001b[39m\"\u001b[39m\n\u001b[0;32m   2217\u001b[0m         )\n",
      "\u001b[1;31mTypeError\u001b[0m: Expected int32, but got 0.0 of type 'float'."
     ]
    }
   ],
   "source": [
    "# train model\n",
    "EPOCHS = 10\n",
    "\n",
    "history = model.fit(\n",
    "    train_dataset,\n",
    "    validation_data=dev_dataset,\n",
    "    epochs=EPOCHS\n",
    ")"
   ]
  },
  {
   "cell_type": "markdown",
   "metadata": {},
   "source": [
    "# End"
   ]
  }
 ],
 "metadata": {
  "kernelspec": {
   "display_name": "udemy",
   "language": "python",
   "name": "python3"
  },
  "language_info": {
   "codemirror_mode": {
    "name": "ipython",
    "version": 3
   },
   "file_extension": ".py",
   "mimetype": "text/x-python",
   "name": "python",
   "nbconvert_exporter": "python",
   "pygments_lexer": "ipython3",
   "version": "3.11.0"
  }
 },
 "nbformat": 4,
 "nbformat_minor": 2
}
