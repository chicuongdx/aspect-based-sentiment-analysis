{
 "cells": [
  {
   "cell_type": "code",
   "execution_count": 10,
   "metadata": {},
   "outputs": [],
   "source": [
    "TRAIN_PATH = 'data/process_data_split_words/train.jsonl'\n",
    "TEST_PATH = 'data/process_data_split_words/test.jsonl'\n",
    "DEV_PATH = 'data/process_data_split_words/dev.jsonl'\n",
    "\n",
    "# TRAIN_PATH = 'data/process_data/train.json'\n",
    "# TEST_PATH = 'data/process_data/test.json'\n",
    "# DEV_PATH = 'data/process_data/dev.json'"
   ]
  },
  {
   "cell_type": "code",
   "execution_count": 11,
   "metadata": {},
   "outputs": [],
   "source": [
    "# function read jsonl file as dataframe\n",
    "import pandas as pd\n",
    "import json\n",
    "\n",
    "def read_jsonl_to_dataframe(file_path):\n",
    "    data = []\n",
    "\n",
    "    with open(file_path, 'r', encoding='utf-8') as file:\n",
    "        for line in file:\n",
    "            try:\n",
    "                json_obj = json.loads(line)\n",
    "                data.append(json_obj)\n",
    "            except json.JSONDecodeError as e:\n",
    "                print(f\"Skipping invalid JSON: {e}\")\n",
    "\n",
    "    df = pd.DataFrame(data)\n",
    "\n",
    "    return df"
   ]
  },
  {
   "cell_type": "code",
   "execution_count": 37,
   "metadata": {},
   "outputs": [],
   "source": [
    "df_train = read_jsonl_to_dataframe(TRAIN_PATH)\n",
    "df_test = read_jsonl_to_dataframe(TEST_PATH)\n",
    "df_dev = read_jsonl_to_dataframe(DEV_PATH)"
   ]
  },
  {
   "cell_type": "code",
   "execution_count": 38,
   "metadata": {},
   "outputs": [],
   "source": [
    "df_train.labels = df_train.labels.apply(lambda label: [(ap[0], ap[1], ap[2].split('#')[0]) for ap in label])\n",
    "df_test.labels = df_test.labels.apply(lambda label: [(ap[0], ap[1], ap[2].split('#')[0]) for ap in label])\n",
    "df_dev.labels = df_dev.labels.apply(lambda label: [(ap[0], ap[1], ap[2].split('#')[0]) for ap in label])"
   ]
  },
  {
   "cell_type": "code",
   "execution_count": 34,
   "metadata": {},
   "outputs": [],
   "source": [
    "# label like this: [[start, end, tag], ...], ex: [[0, 30, 'DESIGN#POSITIVE'], [37, 48, 'FEATURES#NEGATIVE'], [49, 81, 'SER&ACC#POSITIVE']]\n",
    "# text like this: 'kiểu dáng thì đẹp cầm chắc tay nhưng loa nhỏ quá nhân viên phục vụ rất nhiệt tình'\n",
    "# convert to IOB format\n",
    "\n",
    "def convert_to_IOB_format(text, labels):\n",
    "\n",
    "    # split text to tokens\n",
    "    tokens = text.split(' ')\n",
    "\n",
    "    # dict key: hash location, value: IOB tag\n",
    "    # init dict with all 'O' tag and key is location of token\n",
    "    iob_labels = {}\n",
    "\n",
    "    for idx, token in enumerate(tokens):\n",
    "        if idx == 0:\n",
    "            start = 0\n",
    "            end = len(token)\n",
    "        else:\n",
    "            start = end + 1 # 1 for space\n",
    "            end = start + len(token)\n",
    "\n",
    "        # hash location because location is tuple and can't use as key:\n",
    "        # ex: location = (0, 30) -> hash_location = '0_30'\n",
    "        hash_location = str(start) + '_' + str(end)\n",
    "        iob_labels[hash_location] = 'O'\n",
    "\n",
    "        for label in labels:\n",
    "            start_label, end_label, tag = label\n",
    "\n",
    "            # if token is in label\n",
    "            if start_label <= start and end <= end_label:\n",
    "                # if token is start of label\n",
    "                if start_label == start:\n",
    "                    iob_labels[hash_location] = 'B-' + tag\n",
    "                else:\n",
    "                    iob_labels[hash_location] = 'I-' + tag\n",
    "                break\n",
    "\n",
    "    # sort dict by key\n",
    "    iob_labels = dict(sorted(iob_labels.items(), key=lambda x: int(x[0].split('_')[0])))\n",
    "    # return iob_labels\n",
    "    return iob_labels\n"
   ]
  },
  {
   "cell_type": "code",
   "execution_count": 35,
   "metadata": {},
   "outputs": [],
   "source": [
    "# Convert the labels in the training data, dev data, and test data to IOB format\n",
    "df_train.labels = df_train.apply(lambda row: convert_to_IOB_format(row.text, row.labels), axis=1)\n",
    "# df_test.labels = df_test.apply(lambda row: convert_to_IOB_format(row.text, row.labels), axis=1)\n",
    "# df_dev.labels = df_dev.apply(lambda row: convert_to_IOB_format(row.text, row.labels), axis=1)"
   ]
  },
  {
   "cell_type": "code",
   "execution_count": 16,
   "metadata": {},
   "outputs": [],
   "source": [
    "import os\n",
    "\n",
    "def save_data_to_csv(df, folder, filename):\n",
    "    if not os.path.exists(folder):\n",
    "        os.mkdir(folder)\n",
    "\n",
    "    with open(f'{folder}/{filename}', 'w', encoding='utf-8') as file:\n",
    "        df.to_json(file, force_ascii=False)"
   ]
  },
  {
   "cell_type": "code",
   "execution_count": 17,
   "metadata": {},
   "outputs": [],
   "source": [
    "# # save to file csv\n",
    "# save_data_to_csv(df_train, 'data/span_detection_datasets_IOB', 'train.json')\n",
    "# save_data_to_csv(df_test, 'data/span_detection_datasets_IOB', 'test.json')\n",
    "# save_data_to_csv(df_dev, 'data/span_detection_datasets_IOB', 'dev.json')\n",
    "\n",
    "# save to file csv\n",
    "save_data_to_csv(df_train, 'data/span_detection_datasets_split_word_IOB', 'train.json')\n",
    "save_data_to_csv(df_test, 'data/span_detection_datasets_split_word_IOB', 'test.json')\n",
    "save_data_to_csv(df_dev, 'data/span_detection_datasets_split_word_IOB', 'dev.json')"
   ]
  },
  {
   "cell_type": "code",
   "execution_count": 41,
   "metadata": {},
   "outputs": [
    {
     "name": "stdout",
     "output_type": "stream",
     "text": [
      "ao_pin \n",
      "[(0, 3, 'PERFORMANCE'), (8, 15, 'BATTERY'), (44, 104, 'GENERAL')]\n"
     ]
    }
   ],
   "source": [
    "idx = 1\n",
    "print(df_train.iloc[idx]['text'])\n",
    "print(df_train.iloc[idx]['labels'])"
   ]
  },
  {
   "cell_type": "markdown",
   "metadata": {},
   "source": [
    "# End"
   ]
  }
 ],
 "metadata": {
  "kernelspec": {
   "display_name": "udemy",
   "language": "python",
   "name": "python3"
  },
  "language_info": {
   "codemirror_mode": {
    "name": "ipython",
    "version": 3
   },
   "file_extension": ".py",
   "mimetype": "text/x-python",
   "name": "python",
   "nbconvert_exporter": "python",
   "pygments_lexer": "ipython3",
   "version": "3.11.6"
  }
 },
 "nbformat": 4,
 "nbformat_minor": 2
}
