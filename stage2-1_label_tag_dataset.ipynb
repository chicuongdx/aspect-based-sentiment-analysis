{
 "cells": [
  {
   "cell_type": "code",
   "execution_count": 33,
   "metadata": {},
   "outputs": [],
   "source": [
    "TRAIN_PATH = 'data/process_data_split_words/train.jsonl'\n",
    "TEST_PATH = 'data/process_data_split_words/test.jsonl'\n",
    "DEV_PATH = 'data/process_data_split_words/dev.jsonl'\n",
    "\n",
    "# TRAIN_PATH = 'data/process_data/train.json'\n",
    "# TEST_PATH = 'data/process_data/test.json'\n",
    "# DEV_PATH = 'data/process_data/dev.json'"
   ]
  },
  {
   "cell_type": "code",
   "execution_count": 85,
   "metadata": {},
   "outputs": [],
   "source": [
    "import pandas as pd\n",
    "\n",
    "df_train = pd.read_json(TRAIN_PATH)\n",
    "df_test = pd.read_json(TEST_PATH)\n",
    "df_dev = pd.read_json(DEV_PATH)"
   ]
  },
  {
   "cell_type": "code",
   "execution_count": 86,
   "metadata": {},
   "outputs": [],
   "source": [
    "df_train.labels = df_train.labels.apply(lambda label: [(ap[0], ap[1], ap[2].split('#')[0]) for ap in label])\n",
    "df_test.labels = df_test.labels.apply(lambda label: [(ap[0], ap[1], ap[2].split('#')[0]) for ap in label])\n",
    "df_dev.labels = df_dev.labels.apply(lambda label: [(ap[0], ap[1], ap[2].split('#')[0]) for ap in label])"
   ]
  },
  {
   "cell_type": "code",
   "execution_count": 87,
   "metadata": {},
   "outputs": [],
   "source": [
    "# label like this: [[start, end, tag], ...], ex: [[0, 30, 'DESIGN#POSITIVE'], [37, 48, 'FEATURES#NEGATIVE'], [49, 81, 'SER&ACC#POSITIVE']]\n",
    "# text like this: 'kiểu dáng thì đẹp cầm chắc tay nhưng loa nhỏ quá nhân viên phục vụ rất nhiệt tình'\n",
    "# convert to IOB format\n",
    "\n",
    "def convert_to_IOB_format(text, labels):\n",
    "\n",
    "    # split text to tokens\n",
    "    tokens = text.split(' ')\n",
    "\n",
    "    # dict key: hash location, value: IOB tag\n",
    "    # init dict with all 'O' tag and key is location of token\n",
    "    iob_labels = {}\n",
    "\n",
    "    for idx, token in enumerate(tokens):\n",
    "        if idx == 0:\n",
    "            start = 0\n",
    "            end = len(token)\n",
    "        else:\n",
    "            start = end + 1\n",
    "            end = start + len(token)\n",
    "\n",
    "        # hash location because location is tuple and can't use as key:\n",
    "        # ex: location = (0, 30) -> hash_location = '0_30'\n",
    "        hash_location = str(start) + '_' + str(end)\n",
    "        \n",
    "        iob_labels[hash_location] = 'O'\n",
    "\n",
    "    # for label in labels:\n",
    "    #     start, end, tag = label # start end is index of charecter\n",
    "\n",
    "    #     # get substring from start to end\n",
    "    #     sub_string = text[start:end]\n",
    "\n",
    "    #     # split sub_string to tokens\n",
    "    #     sub_tokens = sub_string.split(' ')\n",
    "\n",
    "    #     # get start and end of token in sub_tokens use for query in tokens_dict\n",
    "    #     for idx, token in enumerate(sub_tokens):\n",
    "    #         if idx == 0:\n",
    "    #             sub_start = start\n",
    "    #             sub_end = start + len(token)\n",
    "    #         else:\n",
    "    #             sub_start = sub_end + 1\n",
    "    #             sub_end = sub_start + len(token)\n",
    "\n",
    "    #         # hash location because location is tuple and can't use as key:\n",
    "    #         # ex: location = (0, 30) -> hash_location = '0_30'\n",
    "    #         hash_location = str(sub_start) + '_' + str(sub_end)\n",
    "\n",
    "    #         if idx == 0:\n",
    "    #             iob_labels[hash_location] = 'B-' + tag\n",
    "    #         else:\n",
    "    #             iob_labels[hash_location] = 'I-' + tag\n",
    "\n",
    "    # return iob_labels\n",
    "    return iob_labels\n"
   ]
  },
  {
   "cell_type": "code",
   "execution_count": 88,
   "metadata": {},
   "outputs": [],
   "source": [
    "# Convert the labels in the training data, dev data, and test data to IOB format\n",
    "df_train.labels = df_train.apply(lambda row: convert_to_IOB_format(row.text, row.labels), axis=1)\n",
    "# df_test.labels = df_test.apply(lambda row: convert_to_IOB_format(row.text, row.labels), axis=1)\n",
    "# df_dev.labels = df_dev.apply(lambda row: convert_to_IOB_format(row.text, row.labels), axis=1)"
   ]
  },
  {
   "cell_type": "code",
   "execution_count": 16,
   "metadata": {},
   "outputs": [],
   "source": [
    "import os\n",
    "\n",
    "def save_data_to_csv(df, folder, filename):\n",
    "    if not os.path.exists(folder):\n",
    "        os.mkdir(folder)\n",
    "\n",
    "    with open(f'{folder}/{filename}', 'w', encoding='utf-8') as file:\n",
    "        df.to_json(file, force_ascii=False)"
   ]
  },
  {
   "cell_type": "code",
   "execution_count": 17,
   "metadata": {},
   "outputs": [],
   "source": [
    "# # save to file csv\n",
    "# save_data_to_csv(df_train, 'data/span_detection_datasets_IOB', 'train.json')\n",
    "# save_data_to_csv(df_test, 'data/span_detection_datasets_IOB', 'test.json')\n",
    "# save_data_to_csv(df_dev, 'data/span_detection_datasets_IOB', 'dev.json')\n",
    "\n",
    "# save to file csv\n",
    "save_data_to_csv(df_train, 'data/span_detection_datasets_split_word_IOB', 'train.json')\n",
    "save_data_to_csv(df_test, 'data/span_detection_datasets_split_word_IOB', 'test.json')\n",
    "save_data_to_csv(df_dev, 'data/span_detection_datasets_split_word_IOB', 'dev.json')"
   ]
  },
  {
   "cell_type": "code",
   "execution_count": 92,
   "metadata": {},
   "outputs": [
    {
     "name": "stdout",
     "output_type": "stream",
     "text": [
      "lag và hao_pin là cái tóm_tắt về máy_sam làm tệ quá không bằng mấy con tàu cùng phân_khúc\n",
      "{'0_3': 'O', '4_6': 'O', '7_14': 'O', '15_17': 'O', '18_21': 'O', '22_29': 'O', '30_32': 'O', '33_40': 'O', '41_44': 'O', '45_47': 'O', '48_51': 'O', '52_57': 'O', '58_62': 'O', '63_66': 'O', '67_70': 'O', '71_74': 'O', '75_79': 'O', '80_89': 'O'}\n"
     ]
    }
   ],
   "source": [
    "idx = 1\n",
    "print(df_train.iloc[idx]['text'])\n",
    "print(df_train.iloc[idx]['labels'])"
   ]
  },
  {
   "cell_type": "markdown",
   "metadata": {},
   "source": [
    "# End"
   ]
  }
 ],
 "metadata": {
  "kernelspec": {
   "display_name": "udemy",
   "language": "python",
   "name": "python3"
  },
  "language_info": {
   "codemirror_mode": {
    "name": "ipython",
    "version": 3
   },
   "file_extension": ".py",
   "mimetype": "text/x-python",
   "name": "python",
   "nbconvert_exporter": "python",
   "pygments_lexer": "ipython3",
   "version": "3.11.6"
  }
 },
 "nbformat": 4,
 "nbformat_minor": 2
}
