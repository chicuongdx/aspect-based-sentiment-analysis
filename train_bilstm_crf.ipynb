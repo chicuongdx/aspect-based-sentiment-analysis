{
 "cells": [
  {
   "cell_type": "markdown",
   "metadata": {},
   "source": [
    "# Tokenizer"
   ]
  },
  {
   "cell_type": "code",
   "execution_count": 3,
   "metadata": {},
   "outputs": [],
   "source": [
    "import pandas as pd\n",
    "import numpy as np\n",
    "\n",
    "# load data\n",
    "TRAIN_PATH = 'process_data/train.csv'\n",
    "DEV_PATH = 'process_data/dev.csv'\n",
    "\n",
    "df_train = pd.read_csv(TRAIN_PATH)\n",
    "df_dev = pd.read_csv(DEV_PATH)"
   ]
  },
  {
   "cell_type": "code",
   "execution_count": 6,
   "metadata": {},
   "outputs": [],
   "source": [
    "#Parameters of tokenizer\n",
    "MAX_SEQUENCE_LENGTH = 128"
   ]
  },
  {
   "cell_type": "code",
   "execution_count": null,
   "metadata": {},
   "outputs": [],
   "source": [
    "from tensorflow.keras.preprocessing.text import Tokenizer\n",
    "from tensorflow.keras.preprocessing.sequence import pad_sequences\n",
    "from tensorflow.keras.models import Sequential\n",
    "from tensorflow.keras.layers import Embedding, Bidirectional, LSTM, Dense\n",
    "\n",
    "# Tokenization\n",
    "tokenizer = Tokenizer()\n",
    "tokenizer.fit_on_texts(df_train['text'])\n",
    "X = tokenizer.texts_to_sequences(df_train['text'])\n",
    "X = pad_sequences(X, maxlen=MAX_SEQUENCE_LENGTH)"
   ]
  },
  {
   "cell_type": "markdown",
   "metadata": {},
   "source": [
    "# Model"
   ]
  },
  {
   "cell_type": "code",
   "execution_count": 1,
   "metadata": {},
   "outputs": [],
   "source": [
    "import tensorflow as tf"
   ]
  },
  {
   "cell_type": "code",
   "execution_count": 12,
   "metadata": {},
   "outputs": [],
   "source": [
    "import tensorflow as tf\n",
    "import tensorflow_addons as tfa\n",
    "from tensorflow.keras.layers import Input, Embedding, Bidirectional, LSTM, Dense\n",
    "from tensorflow.keras.models import Model\n",
    "\n",
    "def build_bilstm_crf_model(input_dim, output_dim, input_length, num_classes):\n",
    "    \n",
    "    input_layer = Input(shape=(input_length,))\n",
    "    embedding_layer = Embedding(input_dim=input_dim, output_dim=output_dim, input_length=input_length)(input_layer)\n",
    "    bilstm_layer = Bidirectional(LSTM(units=output_dim, return_sequences=True))(embedding_layer)\n",
    "    crf_layer = tfa.layers.CRF(num_classes, name='sparse_categorical_crossentropy')(bilstm_layer)\n",
    "\n",
    "    model = Model(inputs=input_layer, outputs=crf_layer)\n",
    "    # model.compile(optimizer='adam', loss=tfa.losses.crf_loss, metrics=[tfa.metrics.crf_accuracy])\n",
    "\n",
    "    return model\n"
   ]
  },
  {
   "cell_type": "code",
   "execution_count": 13,
   "metadata": {},
   "outputs": [
    {
     "name": "stdout",
     "output_type": "stream",
     "text": [
      "Model: \"model_6\"\n",
      "_________________________________________________________________\n",
      " Layer (type)                Output Shape              Param #   \n",
      "=================================================================\n",
      " input_7 (InputLayer)        [(None, 128)]             0         \n",
      "                                                                 \n",
      " embedding_6 (Embedding)     (None, 128, 64)           8192      \n",
      "                                                                 \n",
      " bidirectional_6 (Bidirecti  (None, 128, 128)          66048     \n",
      " onal)                                                           \n",
      "                                                                 \n",
      " sparse_categorical_crossen  [(None, 128),             1562      \n",
      " tropy (CRF)                  (None, 128, 11),                   \n",
      "                              (None,),                           \n",
      "                              (11, 11)]                          \n",
      "                                                                 \n",
      "=================================================================\n",
      "Total params: 75802 (296.10 KB)\n",
      "Trainable params: 75802 (296.10 KB)\n",
      "Non-trainable params: 0 (0.00 Byte)\n",
      "_________________________________________________________________\n"
     ]
    }
   ],
   "source": [
    "input_dim = 128\n",
    "output_dim = 64\n",
    "input_length = 128\n",
    "num_classes = 11\n",
    "\n",
    "model = build_bilstm_crf_model(input_dim, output_dim, input_length, num_classes)\n",
    "model.summary()"
   ]
  },
  {
   "cell_type": "code",
   "execution_count": null,
   "metadata": {},
   "outputs": [],
   "source": []
  }
 ],
 "metadata": {
  "kernelspec": {
   "display_name": "Python 3",
   "language": "python",
   "name": "python3"
  },
  "language_info": {
   "codemirror_mode": {
    "name": "ipython",
    "version": 3
   },
   "file_extension": ".py",
   "mimetype": "text/x-python",
   "name": "python",
   "nbconvert_exporter": "python",
   "pygments_lexer": "ipython3",
   "version": "3.11.5"
  },
  "orig_nbformat": 4
 },
 "nbformat": 4,
 "nbformat_minor": 2
}
